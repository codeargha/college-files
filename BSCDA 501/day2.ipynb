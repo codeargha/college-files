{
 "cells": [
  {
   "cell_type": "code",
   "execution_count": 1,
   "metadata": {},
   "outputs": [
    {
     "name": "stdout",
     "output_type": "stream",
     "text": [
      "Your average marks is:  83.0\n",
      "Grade B\n"
     ]
    }
   ],
   "source": [
    "sub1 = int(input(\"Enter marks of the first subject: \"))\n",
    "sub2 = int(input(\"Enter marks of the second subject: \"))\n",
    "sub3 = int(input(\"Enter marks of the third subject: \"))\n",
    "\n",
    "avg = (sub1+sub2+sub3)/3\n",
    "print(\"Your average marks is: \",avg)\n",
    "\n",
    "if(avg>90):\n",
    "    print(\"Grade A\")\n",
    "elif(avg>80 and avg<=90):\n",
    "    print(\"Grade B\")\n",
    "elif(avg>=70 and avg<=80):\n",
    "    print(\"Grade C\")\n",
    "elif(avg>=60 and avg<=70):\n",
    "    print(\"Grade D\")\n",
    "else:\n",
    "    print(\"Grade F\")\n",
    "    "
   ]
  },
  {
   "cell_type": "code",
   "execution_count": 2,
   "metadata": {},
   "outputs": [
    {
     "name": "stdout",
     "output_type": "stream",
     "text": [
      "Saturday\n"
     ]
    }
   ],
   "source": [
    "# wap that propmpt the user to input a number program should display the crosponding days to the number\n",
    "def get_day_of_week(number):\n",
    "    if number == 1:\n",
    "        return \"Monday\"\n",
    "    elif number == 2:\n",
    "        return \"Tuesday\"\n",
    "    elif number == 3:\n",
    "        return \"Wednesday\"\n",
    "    elif number == 4:\n",
    "        return \"Thursday\"\n",
    "    elif number == 5:\n",
    "        return \"Friday\"\n",
    "    elif number == 6:\n",
    "        return \"Saturday\"\n",
    "    elif number == 7:\n",
    "        return \"Sunday\"\n",
    "    else:\n",
    "        return \"Invalid number. Please enter a number between 1 and 7.\"\n",
    "\n",
    "try:\n",
    "    number = int(input(\"Enter a number (1-7): \"))\n",
    "    day = get_day_of_week(number)\n",
    "    print(day)\n",
    "except ValueError:\n",
    "    print(\"Invalid input. Please enter a valid number.\")"
   ]
  },
  {
   "cell_type": "code",
   "execution_count": 3,
   "metadata": {},
   "outputs": [
    {
     "name": "stdout",
     "output_type": "stream",
     "text": [
      "r is a consonant.\n"
     ]
    }
   ],
   "source": [
    "char = input(\"Enter a character: \")\n",
    "\n",
    "if len(char) == 1 and char.isalpha():\n",
    "    if char in 'aeiouAEIOU':\n",
    "        print(f\"{char} is a vowel.\")\n",
    "    else:\n",
    "        print(f\"{char} is a consonant.\")\n",
    "else:\n",
    "    print(\"Invalid input. Please enter a single alphabetic character.\")"
   ]
  },
  {
   "cell_type": "code",
   "execution_count": 4,
   "metadata": {},
   "outputs": [
    {
     "name": "stdout",
     "output_type": "stream",
     "text": [
      "4 is an Armstrong number.\n"
     ]
    }
   ],
   "source": [
    "# wap  Armstrong number if a number is armstrong number or not\n",
    "number = input(\"Enter a number: \")\n",
    "\n",
    "if number.isdigit():\n",
    "    number = int(number)\n",
    "    num_str = str(number)\n",
    "    num_digits = len(num_str)\n",
    "    sum_of_powers = sum(int(digit) ** num_digits for digit in num_str)\n",
    "    \n",
    "    if number == sum_of_powers:\n",
    "        print(f\"{number} is an Armstrong number.\")\n",
    "    else:\n",
    "        print(f\"{number} is not an Armstrong number.\")\n",
    "else:\n",
    "    print(\"Invalid input. Please enter a valid number.\")\n"
   ]
  },
  {
   "cell_type": "code",
   "execution_count": 5,
   "metadata": {},
   "outputs": [
    {
     "name": "stdout",
     "output_type": "stream",
     "text": [
      "Fibonacci series:\n",
      "0 1 1 2 3 "
     ]
    }
   ],
   "source": [
    "## wap to display the fibbonacci series\n",
    "\n",
    "n_terms = int(input(\"Enter the number of terms in the Fibonacci series: \"))\n",
    "\n",
    "# Initialize the first two terms\n",
    "a, b = 0, 1\n",
    "count = 0\n",
    "\n",
    "if n_terms <= 0:\n",
    "    print(\"Please enter a positive integer.\")\n",
    "elif n_terms == 1:\n",
    "    print(f\"Fibonacci series up to {n_terms} term: {a}\")\n",
    "else:\n",
    "    print(\"Fibonacci series:\")\n",
    "    while count < n_terms:\n",
    "        print(a, end=\" \")\n",
    "        nth = a + b\n",
    "        # Update values\n",
    "        a = b\n",
    "        b = nth\n",
    "        count += 1"
   ]
  },
  {
   "cell_type": "code",
   "execution_count": 6,
   "metadata": {},
   "outputs": [
    {
     "name": "stdout",
     "output_type": "stream",
     "text": [
      "The reverse of 34556 is 65543.\n"
     ]
    }
   ],
   "source": [
    "# wap to print the reverse of  number \n",
    "\n",
    "number = input(\"Enter a number: \")\n",
    "\n",
    "if number.isdigit():\n",
    "    reversed_number = number[::-1]\n",
    "    print(f\"The reverse of {number} is {reversed_number}.\")\n",
    "else:\n",
    "    print(\"Invalid input. Please enter a valid number.\")"
   ]
  },
  {
   "cell_type": "code",
   "execution_count": 7,
   "metadata": {},
   "outputs": [
    {
     "name": "stdout",
     "output_type": "stream",
     "text": [
      "7 is a prime number.\n"
     ]
    }
   ],
   "source": [
    "# wap to check whether the given number is prime or not\n",
    "number = input(\"Enter a number: \")\n",
    "\n",
    "if number.isdigit():\n",
    "    number = int(number)\n",
    "    if number > 1:\n",
    "        for i in range(2, int(number**0.5) + 1):\n",
    "            if number % i == 0:\n",
    "                print(f\"{number} is not a prime number.\")\n",
    "                break\n",
    "        else:\n",
    "            print(f\"{number} is a prime number.\")\n",
    "    else:\n",
    "        print(f\"{number} is not a prime number.\")\n",
    "else:\n",
    "    print(\"Invalid input. Please enter a valid number.\")\n"
   ]
  },
  {
   "cell_type": "code",
   "execution_count": null,
   "metadata": {},
   "outputs": [],
   "source": []
  },
  {
   "cell_type": "code",
   "execution_count": null,
   "metadata": {},
   "outputs": [],
   "source": []
  }
 ],
 "metadata": {
  "kernelspec": {
   "display_name": "Python 3",
   "language": "python",
   "name": "python3"
  },
  "language_info": {
   "codemirror_mode": {
    "name": "ipython",
    "version": 3
   },
   "file_extension": ".py",
   "mimetype": "text/x-python",
   "name": "python",
   "nbconvert_exporter": "python",
   "pygments_lexer": "ipython3",
   "version": "3.12.6"
  }
 },
 "nbformat": 4,
 "nbformat_minor": 2
}
