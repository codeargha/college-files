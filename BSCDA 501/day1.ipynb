{
 "cells": [
  {
   "cell_type": "code",
   "execution_count": 1,
   "metadata": {},
   "outputs": [
    {
     "name": "stdout",
     "output_type": "stream",
     "text": [
      "sum of the 2 number is: 3\n"
     ]
    }
   ],
   "source": [
    "#1\n",
    "\n",
    "num1 = int(input(\"Enter the 1st number.\"))\n",
    "num2 = int(input(\"Enter the 2nd number\"))\n",
    "\n",
    "c =  num1 + num2\n",
    "\n",
    "print(f\"sum of the 2 number is: {c}\")"
   ]
  },
  {
   "cell_type": "code",
   "execution_count": 2,
   "metadata": {},
   "outputs": [
    {
     "name": "stdout",
     "output_type": "stream",
     "text": [
      "4.0 degree celcious is equal to 39.2\n"
     ]
    }
   ],
   "source": [
    "#2\n",
    "\n",
    "# F = (C * (9/5)) +32\n",
    "\n",
    "\n",
    "user_input = float(input(\"Please enter the Celcious temprature\"))\n",
    "\n",
    "fahrenheit = (user_input * (9/5)) + 32\n",
    "\n",
    "print(f\"{user_input} degree celcious is equal to {fahrenheit}\")"
   ]
  },
  {
   "cell_type": "code",
   "execution_count": 3,
   "metadata": {},
   "outputs": [
    {
     "name": "stdout",
     "output_type": "stream",
     "text": [
      "After swapping:\n",
      "First number: 2.0\n",
      "Second number: 1.0\n"
     ]
    }
   ],
   "source": [
    "#3\n",
    "\n",
    "num1 = float(input(\"Enter the first number: \"))\n",
    "num2 = float(input(\"Enter the second number: \"))\n",
    "\n",
    "\n",
    "num1, num2 = num2, num1\n",
    "\n",
    "\n",
    "print(\"After swapping:\")\n",
    "print(\"First number:\", num1)\n",
    "print(\"Second number:\", num2)\n",
    "\n"
   ]
  },
  {
   "cell_type": "code",
   "execution_count": 4,
   "metadata": {},
   "outputs": [
    {
     "name": "stdout",
     "output_type": "stream",
     "text": [
      "the area of the circle is 50.2656 and the circumference of the_area is 25.1328\n"
     ]
    }
   ],
   "source": [
    "# 4\n",
    "\n",
    "radius = float(input(\"Enter the radius of the circle.\"))\n",
    "\n",
    "area_of_circle = 3.1416 * (radius ** 2)\n",
    "circumference_of_the_area = 2 * 3.1416 * radius\n",
    "\n",
    "print(f\"the area of the circle is {area_of_circle} and the circumference of the_area is {circumference_of_the_area}\")"
   ]
  },
  {
   "cell_type": "code",
   "execution_count": 5,
   "metadata": {},
   "outputs": [
    {
     "name": "stdout",
     "output_type": "stream",
     "text": [
      "Your entered number is Odd.\n"
     ]
    }
   ],
   "source": [
    "# 5\n",
    "\n",
    "user_input = int(input(\"Plesae give a number\")) \n",
    "\n",
    "if user_input % 2 == 0:\n",
    "    print(\"Your entered number is Even.\")\n",
    "else:\n",
    "    print(\"Your entered number is Odd.\")\n"
   ]
  },
  {
   "cell_type": "code",
   "execution_count": 6,
   "metadata": {},
   "outputs": [
    {
     "name": "stdout",
     "output_type": "stream",
     "text": [
      "The 2nd number is larger\n"
     ]
    }
   ],
   "source": [
    "# 6\n",
    "\n",
    "num1 = int(input(\"Enter the 1st number.\"))\n",
    "num2 = int(input(\"Enter the 2nd number.\"))\n",
    "\n",
    "if num1 > num2:\n",
    "    print(\"The 1st number is larger\")\n",
    "else:\n",
    "    print(\"The 2nd number is larger\")"
   ]
  },
  {
   "cell_type": "code",
   "execution_count": 7,
   "metadata": {},
   "outputs": [
    {
     "name": "stdout",
     "output_type": "stream",
     "text": [
      "The 3rd number is larger\n"
     ]
    }
   ],
   "source": [
    "# 7\n",
    "\n",
    "num1 = int(input(\"Enter the 1st number.\"))\n",
    "num2 = int(input(\"Enter the 2nd number.\"))\n",
    "num3 = int(input(\"Enter the 3rd number.\"))\n",
    "\n",
    "if num1 > num2 and num1 > num3:\n",
    "    print(\"The 1st number is larger\")\n",
    "elif num2 > num1 and num2 > num3:\n",
    "    print(\"The 2nd number is larger\")\n",
    "else:\n",
    "    print(\"The 3rd number is larger\")"
   ]
  },
  {
   "cell_type": "code",
   "execution_count": 8,
   "metadata": {},
   "outputs": [
    {
     "name": "stdout",
     "output_type": "stream",
     "text": [
      "3003 is not a leap year.\n"
     ]
    }
   ],
   "source": [
    "# 8\n",
    "\n",
    "\n",
    "year = int(input(\"Enter a year: \"))\n",
    "\n",
    "\n",
    "if year % 4 == 0:\n",
    "    if year % 100 == 0:\n",
    "        if year % 400 == 0:\n",
    "            print(f\"{year} is a leap year.\")\n",
    "        else:\n",
    "            print(f\"{year} is not a leap year.\")\n",
    "    else:\n",
    "        print(f\"{year} is a leap year.\")\n",
    "else:\n",
    "    print(f\"{year} is not a leap year.\")"
   ]
  },
  {
   "cell_type": "code",
   "execution_count": null,
   "metadata": {},
   "outputs": [],
   "source": []
  }
 ],
 "metadata": {
  "kernelspec": {
   "display_name": "Python 3.8.10 64-bit",
   "language": "python",
   "name": "python3"
  },
  "language_info": {
   "codemirror_mode": {
    "name": "ipython",
    "version": 3
   },
   "file_extension": ".py",
   "mimetype": "text/x-python",
   "name": "python",
   "nbconvert_exporter": "python",
   "pygments_lexer": "ipython3",
   "version": "3.12.6"
  },
  "orig_nbformat": 4,
  "vscode": {
   "interpreter": {
    "hash": "e7370f93d1d0cde622a1f8e1c04877d8463912d04d973331ad4851f04de6915a"
   }
  }
 },
 "nbformat": 4,
 "nbformat_minor": 2
}
